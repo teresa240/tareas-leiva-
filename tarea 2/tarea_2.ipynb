{
  "nbformat": 4,
  "nbformat_minor": 0,
  "metadata": {
    "colab": {
      "provenance": []
    },
    "kernelspec": {
      "name": "python3",
      "display_name": "Python 3"
    },
    "language_info": {
      "name": "python"
    }
  },
  "cells": [
    {
      "cell_type": "code",
      "execution_count": null,
      "metadata": {
        "colab": {
          "base_uri": "https://localhost:8080/"
        },
        "id": "USA2a7kL_1jm",
        "outputId": "d2b6efb7-64b0-4f1d-bc1f-1956ed4d0d64"
      },
      "outputs": [
        {
          "output_type": "stream",
          "name": "stdout",
          "text": [
            "1\n",
            "2\n",
            "3\n",
            "4\n",
            "5\n",
            "6\n",
            "7\n",
            "8\n",
            "9\n",
            "10\n",
            "11\n",
            "12\n",
            "13\n",
            "14\n",
            "15\n",
            "16\n",
            "17\n",
            "18\n",
            "19\n",
            "20\n",
            "21\n",
            "22\n",
            "23\n",
            "24\n",
            "25\n",
            "26\n",
            "27\n",
            "28\n",
            "29\n",
            "30\n",
            "31\n",
            "32\n",
            "33\n",
            "34\n",
            "35\n",
            "36\n",
            "37\n",
            "38\n",
            "39\n",
            "40\n",
            "41\n",
            "42\n",
            "43\n",
            "44\n",
            "45\n",
            "46\n",
            "47\n",
            "48\n",
            "49\n",
            "50\n",
            "51\n",
            "52\n",
            "53\n",
            "54\n",
            "55\n",
            "56\n",
            "57\n",
            "58\n",
            "59\n",
            "60\n",
            "61\n",
            "62\n",
            "63\n",
            "64\n",
            "65\n",
            "66\n",
            "67\n",
            "68\n",
            "69\n",
            "70\n",
            "71\n",
            "72\n",
            "73\n",
            "74\n",
            "75\n",
            "76\n",
            "77\n",
            "78\n",
            "79\n",
            "80\n",
            "81\n",
            "82\n",
            "83\n",
            "84\n",
            "85\n",
            "86\n",
            "87\n",
            "88\n",
            "89\n",
            "90\n",
            "91\n",
            "92\n",
            "93\n",
            "94\n",
            "95\n",
            "96\n",
            "97\n",
            "98\n",
            "99\n"
          ]
        }
      ],
      "source": [
        "for i in range(1,101):\n",
        "  print(i)"
      ]
    },
    {
      "cell_type": "markdown",
      "source": [
        "Problema 1: Impresión de los números del 1 al 100"
      ],
      "metadata": {
        "id": "fXO7XBwrA7T_"
      }
    },
    {
      "cell_type": "code",
      "source": [
        "for i in range(1,101):\n",
        "    if i % 3 == 0:\n",
        "        print(i)\n"
      ],
      "metadata": {
        "colab": {
          "base_uri": "https://localhost:8080/"
        },
        "id": "oVyotyeIBIAr",
        "outputId": "ed14f266-374b-4d75-c83d-87e8886de55e"
      },
      "execution_count": null,
      "outputs": [
        {
          "output_type": "stream",
          "name": "stdout",
          "text": [
            "3\n",
            "6\n",
            "9\n",
            "12\n",
            "15\n",
            "18\n",
            "21\n",
            "24\n",
            "27\n",
            "30\n",
            "33\n",
            "36\n",
            "39\n",
            "42\n",
            "45\n",
            "48\n",
            "51\n",
            "54\n",
            "57\n",
            "60\n",
            "63\n",
            "66\n",
            "69\n",
            "72\n",
            "75\n",
            "78\n",
            "81\n",
            "84\n",
            "87\n",
            "90\n",
            "93\n",
            "96\n",
            "99\n"
          ]
        }
      ]
    },
    {
      "cell_type": "markdown",
      "source": [
        "Problema 2: Impresión de los números del 1 al 100 que sean divisibles entre 3 (con resto 0)"
      ],
      "metadata": {
        "id": "fBrUvHE7CncY"
      }
    },
    {
      "cell_type": "code",
      "source": [
        "# solicitar al usuario que ingrese dos números\n",
        "num1 = float(input(\"ingresa el primer número: \"))\n",
        "num2 = float(input(\"ingresa el segundo número: \"))\n",
        "\n",
        "# sumar los dos números\n",
        "resultado = num1 + num2\n",
        "\n",
        "# verificar el resultado y mostrar el mensaje correspondiente\n",
        "if resultado < 100:\n",
        "    print(\"El resultado es menor a 100\")\n",
        "elif 100 <= resultado < 150:\n",
        "    print(\"El resultado es mayor a 100 pero menor a 150\")\n",
        "else:\n",
        "  print(\"El resultado es mayor a 150\")"
      ],
      "metadata": {
        "colab": {
          "base_uri": "https://localhost:8080/"
        },
        "id": "47iHtEQO_8rR",
        "outputId": "b01ef80a-643a-4e32-dcf8-5d1258453de1"
      },
      "execution_count": null,
      "outputs": [
        {
          "output_type": "stream",
          "name": "stdout",
          "text": [
            "ingresa el primer número: 100\n",
            "ingresa el segundo número: 40\n",
            "El resultado es mayor a 100 pero menor a 150\n"
          ]
        }
      ]
    },
    {
      "cell_type": "markdown",
      "source": [
        "Problema 3:Sumador de dos números.\n",
        "Se muestra:\"menor a 100\", \"mayor a 100\" y \"mayor a 150\"."
      ],
      "metadata": {
        "id": "PIP2EaArGZIP"
      }
    },
    {
      "cell_type": "code",
      "source": [
        "def evaluar_usuario(edad, gusta_programar):\n",
        "\n",
        "    # Ingresar las respuestas\n",
        "    edad = int(input(\"ingresa tu edad: \"))\n",
        "\n",
        "    # Preguntar si le gusta la programación\n",
        "    le_gusta_programacion = input(\"¿Te gusta la programación? (si/no): \").strip().lower()\n",
        "\n",
        "    # Evaluar las respuestas\n",
        "    if edad >= 18:\n",
        "          if le_gusta_programacion == \"si\" :\n",
        "                  print(\"¡Eres adulto, que cool que te guste la programación!\")\n",
        "          elif le_gusta_programacion == \"si\":\n",
        "                        print(\"¡Eres adulto, que lastima que no te guste la programación!\")\n",
        "          else:\n",
        "                        print(\"respuesta no válida sobre si te gusta la programación\")\n",
        "\n",
        "    else:\n",
        "          if le_gusta_programacion == \"si\" :\n",
        "                            print(\"Eres menor de edad y te gusta la programación, que cool\")\n",
        "          elif le_gusta_programacion == \"no\" :\n",
        "                            print(\"Eres menor de edad y no te gusta la programación, que cool\")\n",
        "          else:\n",
        "                            print(\"Respuesta no válida sobre si te gusta la programación\")\n",
        "\n",
        "    # Llamar a la función\n",
        "    evaluar_usuario(edad,  le_gusta_programacion)\n",
        "\n",
        "\n"
      ],
      "metadata": {
        "id": "miTiIKVdHFJS"
      },
      "execution_count": null,
      "outputs": []
    },
    {
      "cell_type": "markdown",
      "source": [
        "Problema 4: Programa que combina la variable de si el usuario es mayor de edad o no con la variable de si le gusta o no la programación.\n"
      ],
      "metadata": {
        "id": "gktdArUZ5xDz"
      }
    }
  ]
}