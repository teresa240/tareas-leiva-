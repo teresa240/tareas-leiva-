{
 "cells": [
  {
   "cell_type": "code",
   "execution_count": null,
   "metadata": {},
   "outputs": [],
   "source": [
    "# # # Ficha técnica \n",
    "\n",
    "# # Dimensión Descripción\n",
    "\n",
    "# ## Características de los datos\n",
    "# Los datos son tanto de investigación como de campo y son estructurados. Son datos cuantitativos, más allá de sus clasificaciones cualitativas y continuos.\n",
    "\n",
    "# ## Alcance metodológico\n",
    "# En la base de datos utilizada se filtran del total de gastos de gendarmería los destinados solamente al mantenimiento de reos. Esto durante los últimos tres años.\n",
    "\n",
    "# ## Variables\n",
    "# 1. En el eje X está el presupuesto inicial destinado a cada clasificación presupuestaria.\n",
    "# 2. En el eje Y están las clasificaciones presupuestarias generales y las destinadas a reos. Esta última corresponde a la suma de las siguientes glosas: gastos en personal, bienes y servicios, y prestaciones de seguridad social.\n",
    "\n",
    "# ## Observaciones\n",
    "# Cada grupo de barras representa un año (3) y dentro de cada grupo hay dos clasificaciones presupuestarias: gasto en reos y gastos generales.\n"
   ]
  }
 ],
 "metadata": {
  "language_info": {
   "name": "python"
  }
 },
 "nbformat": 4,
 "nbformat_minor": 2
}
